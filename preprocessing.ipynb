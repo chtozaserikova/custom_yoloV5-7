{
 "cells": [
  {
   "cell_type": "code",
   "execution_count": null,
   "metadata": {},
   "outputs": [],
   "source": [
    "import os\n",
    "import numpy as np\n",
    "import shutil\n",
    "import os"
   ]
  },
  {
   "cell_type": "markdown",
   "metadata": {},
   "source": [
    "Загружаем в папку проекта исходное видео **synthetic_video.mp4**"
   ]
  },
  {
   "cell_type": "code",
   "execution_count": null,
   "metadata": {},
   "outputs": [],
   "source": [
    "!pip install video-cli\n",
    "!video-toimg synthetic_video.mp4 --per 3 #беру каждый третий кадр"
   ]
  },
  {
   "cell_type": "markdown",
   "metadata": {},
   "source": [
    "Разбиваем папку на тренировочную и тестовую выборку"
   ]
  },
  {
   "cell_type": "code",
   "execution_count": null,
   "metadata": {},
   "outputs": [],
   "source": [
    "import os\n",
    "import numpy as np\n",
    "import shutil\n",
    "\n",
    "root_dir = 'synthetic_video'\n",
    "allFileNames = os.listdir(root_dir)\n",
    "os.makedirs(root_dir +'/train/')\n",
    "os.makedirs(root_dir +'/val/')\n",
    "\n",
    "np.random.shuffle(allFileNames)\n",
    "train_FileNames, val_FileNames = np.split(np.array(allFileNames),[int(len(allFileNames)*0.8)])\n",
    "\n",
    "\n",
    "train_FileNames = [name for name in train_FileNames.tolist()]\n",
    "val_FileNames = [name for name in val_FileNames.tolist()]\n",
    "\n",
    "print('Total images: ', len(allFileNames))\n",
    "print('Training: ', len(train_FileNames))\n",
    "print('Testing: ', len(val_FileNames))\n",
    "\n",
    "\n",
    "for name in train_FileNames:\n",
    "    shutil.move(root_dir+'/' + name, 'synthetic_video/train')\n",
    "\n",
    "for name in val_FileNames:\n",
    "    shutil.move(root_dir+'/' + name, 'synthetic_video/val')"
   ]
  },
  {
   "cell_type": "markdown",
   "metadata": {},
   "source": [
    "Для дальнейшей разметки использовала **Label Studio** (установка и запуск через командную строку)"
   ]
  }
 ],
 "metadata": {
  "kernelspec": {
   "display_name": "Python 3.10.5 64-bit",
   "language": "python",
   "name": "python3"
  },
  "language_info": {
   "name": "python",
   "version": "3.10.5"
  },
  "orig_nbformat": 4,
  "vscode": {
   "interpreter": {
    "hash": "21a3d01e8368cfa19a102c134c0c062a32736263c5d0133ceaa97ac29f712d49"
   }
  }
 },
 "nbformat": 4,
 "nbformat_minor": 2
}
